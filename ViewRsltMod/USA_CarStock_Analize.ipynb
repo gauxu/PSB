{
 "cells": [
  {
   "cell_type": "code",
   "execution_count": 1,
   "metadata": {},
   "outputs": [],
   "source": [
    "#\n",
    "import numpy as np\n",
    "import pandas as pd\n",
    "from pandas import DataFrame, Series\n",
    "\n",
    "#\n",
    "import matplotlib.pyplot as plt\n",
    "%matplotlib inline"
   ]
  },
  {
   "cell_type": "code",
   "execution_count": 5,
   "metadata": {},
   "outputs": [],
   "source": [
    "#\n",
    "from datetime import datetime\n",
    "\n",
    "#pandas中にあったdatareaderは独立したためこちらに変更\n",
    "import pandas_datareader.data as pdr"
   ]
  },
  {
   "cell_type": "code",
   "execution_count": 7,
   "metadata": {},
   "outputs": [],
   "source": [
    "#\n",
    "end = datetime.now()\n",
    "#\n",
    "start = datetime(end.year-1, end.month, end.day)\n",
    "\n",
    "#Yahoo\n",
    "df = pdr.DataReader('GM', 'yahoo', start, end)"
   ]
  },
  {
   "cell_type": "code",
   "execution_count": 8,
   "metadata": {},
   "outputs": [
    {
     "data": {
      "text/html": [
       "<div>\n",
       "<style scoped>\n",
       "    .dataframe tbody tr th:only-of-type {\n",
       "        vertical-align: middle;\n",
       "    }\n",
       "\n",
       "    .dataframe tbody tr th {\n",
       "        vertical-align: top;\n",
       "    }\n",
       "\n",
       "    .dataframe thead th {\n",
       "        text-align: right;\n",
       "    }\n",
       "</style>\n",
       "<table border=\"1\" class=\"dataframe\">\n",
       "  <thead>\n",
       "    <tr style=\"text-align: right;\">\n",
       "      <th></th>\n",
       "      <th>High</th>\n",
       "      <th>Low</th>\n",
       "      <th>Open</th>\n",
       "      <th>Close</th>\n",
       "      <th>Volume</th>\n",
       "      <th>Adj Close</th>\n",
       "    </tr>\n",
       "    <tr>\n",
       "      <th>Date</th>\n",
       "      <th></th>\n",
       "      <th></th>\n",
       "      <th></th>\n",
       "      <th></th>\n",
       "      <th></th>\n",
       "      <th></th>\n",
       "    </tr>\n",
       "  </thead>\n",
       "  <tbody>\n",
       "    <tr>\n",
       "      <th>2018-08-23</th>\n",
       "      <td>36.169998</td>\n",
       "      <td>35.630001</td>\n",
       "      <td>35.950001</td>\n",
       "      <td>35.669998</td>\n",
       "      <td>8742400.0</td>\n",
       "      <td>34.209019</td>\n",
       "    </tr>\n",
       "    <tr>\n",
       "      <th>2018-08-24</th>\n",
       "      <td>36.099998</td>\n",
       "      <td>35.759998</td>\n",
       "      <td>35.950001</td>\n",
       "      <td>35.950001</td>\n",
       "      <td>7278000.0</td>\n",
       "      <td>34.477551</td>\n",
       "    </tr>\n",
       "    <tr>\n",
       "      <th>2018-08-27</th>\n",
       "      <td>37.779999</td>\n",
       "      <td>36.230000</td>\n",
       "      <td>36.290001</td>\n",
       "      <td>37.689999</td>\n",
       "      <td>17968000.0</td>\n",
       "      <td>36.146286</td>\n",
       "    </tr>\n",
       "    <tr>\n",
       "      <th>2018-08-28</th>\n",
       "      <td>37.860001</td>\n",
       "      <td>36.919998</td>\n",
       "      <td>37.849998</td>\n",
       "      <td>37.320000</td>\n",
       "      <td>9638800.0</td>\n",
       "      <td>35.791435</td>\n",
       "    </tr>\n",
       "    <tr>\n",
       "      <th>2018-08-29</th>\n",
       "      <td>37.419998</td>\n",
       "      <td>36.880001</td>\n",
       "      <td>37.389999</td>\n",
       "      <td>37.119999</td>\n",
       "      <td>7223400.0</td>\n",
       "      <td>35.599628</td>\n",
       "    </tr>\n",
       "  </tbody>\n",
       "</table>\n",
       "</div>"
      ],
      "text/plain": [
       "                 High        Low       Open      Close      Volume  Adj Close\n",
       "Date                                                                         \n",
       "2018-08-23  36.169998  35.630001  35.950001  35.669998   8742400.0  34.209019\n",
       "2018-08-24  36.099998  35.759998  35.950001  35.950001   7278000.0  34.477551\n",
       "2018-08-27  37.779999  36.230000  36.290001  37.689999  17968000.0  36.146286\n",
       "2018-08-28  37.860001  36.919998  37.849998  37.320000   9638800.0  35.791435\n",
       "2018-08-29  37.419998  36.880001  37.389999  37.119999   7223400.0  35.599628"
      ]
     },
     "execution_count": 8,
     "metadata": {},
     "output_type": "execute_result"
    }
   ],
   "source": [
    "df.head()"
   ]
  },
  {
   "cell_type": "code",
   "execution_count": null,
   "metadata": {},
   "outputs": [],
   "source": []
  }
 ],
 "metadata": {
  "kernelspec": {
   "display_name": "Python 3",
   "language": "python",
   "name": "python3"
  },
  "language_info": {
   "codemirror_mode": {
    "name": "ipython",
    "version": 3
   },
   "file_extension": ".py",
   "mimetype": "text/x-python",
   "name": "python",
   "nbconvert_exporter": "python",
   "pygments_lexer": "ipython3",
   "version": "3.7.1"
  }
 },
 "nbformat": 4,
 "nbformat_minor": 2
}
